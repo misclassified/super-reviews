{
 "cells": [
  {
   "cell_type": "markdown",
   "metadata": {
    "colab_type": "text",
    "id": "IWXNrtikfJqJ"
   },
   "source": [
    "# Import Libraries"
   ]
  },
  {
   "cell_type": "code",
   "execution_count": 1,
   "metadata": {
    "colab": {},
    "colab_type": "code",
    "id": "f9H0T2UAfJNO"
   },
   "outputs": [],
   "source": [
    "import collections \n",
    "import itertools\n",
    "import os\n",
    "\n",
    "import matplotlib.pyplot as plt\n",
    "import numpy as np\n",
    "import pandas as pd\n",
    "%matplotlib inline"
   ]
  },
  {
   "cell_type": "markdown",
   "metadata": {
    "colab_type": "text",
    "id": "VfyeqncAfznu"
   },
   "source": [
    "# Import Data\n"
   ]
  },
  {
   "cell_type": "code",
   "execution_count": 4,
   "metadata": {},
   "outputs": [],
   "source": [
    "file_location = 'https://s3.amazonaws.com/amazon-reviews-pds/tsv/amazon_reviews_us_Musical_Instruments_v1_00.tsv.gz'\n",
    "output_path = 'Data'"
   ]
  },
  {
   "cell_type": "code",
   "execution_count": 5,
   "metadata": {},
   "outputs": [
    {
     "name": "stdout",
     "output_type": "stream",
     "text": [
      "/home/ec2-user/SageMaker/super reviews/Data\n",
      "--2020-01-12 14:22:02--  https://s3.amazonaws.com/amazon-reviews-pds/tsv/amazon_reviews_us_Musical_Instruments_v1_00.tsv.gz\n",
      "Resolving s3.amazonaws.com (s3.amazonaws.com)... 52.216.129.85\n",
      "Connecting to s3.amazonaws.com (s3.amazonaws.com)|52.216.129.85|:443... connected.\n",
      "HTTP request sent, awaiting response... 200 OK\n",
      "Length: 193389086 (184M) [application/x-gzip]\n",
      "Saving to: ‘amazon_reviews_us_Musical_Instruments_v1_00.tsv.gz’\n",
      "\n",
      "amazon_reviews_us_M 100%[===================>] 184.43M  22.5MB/s    in 8.5s    \n",
      "\n",
      "2020-01-12 14:22:10 (21.6 MB/s) - ‘amazon_reviews_us_Musical_Instruments_v1_00.tsv.gz’ saved [193389086/193389086]\n",
      "\n"
     ]
    }
   ],
   "source": [
    "# Get Data From Amazon S3\n",
    "%cd  {output_path}\n",
    "!wget {file_location} "
   ]
  },
  {
   "cell_type": "code",
   "execution_count": 6,
   "metadata": {},
   "outputs": [
    {
     "name": "stdout",
     "output_type": "stream",
     "text": [
      "gzip: amazon_reviews_us_Musical_Instruments_v1_00.tsv already exists; do you wish to overwrite (y or n)? ^C\n",
      "/home/ec2-user/SageMaker/super reviews\n"
     ]
    }
   ],
   "source": [
    "# Unzip then switch back to previous working directory\n",
    "!gunzip {os.path.basename(file_location)}\n",
    "%cd .."
   ]
  },
  {
   "cell_type": "code",
   "execution_count": 67,
   "metadata": {
    "colab": {
     "base_uri": "https://localhost:8080/",
     "height": 156
    },
    "colab_type": "code",
    "executionInfo": {
     "elapsed": 9186,
     "status": "ok",
     "timestamp": 1577804872651,
     "user": {
      "displayName": "Giovanni Bruner",
      "photoUrl": "https://lh3.googleusercontent.com/a-/AAuE7mCZ-h0IQPleouGRaUb0j1_Nth08mflsLuyfmhoifA=s64",
      "userId": "15931335504431022291"
     },
     "user_tz": -60
    },
    "id": "zfM_LIzUsQyJ",
    "outputId": "15083587-94ab-41c8-b758-f5b0a5d46dcc"
   },
   "outputs": [],
   "source": [
    "# Read Data Using Pandas \n",
    "data_path = 'Data'\n",
    "unzippedpath = 'amazon_reviews_us_Musical_Instruments_v1_00.tsv'\n",
    "dfpath = os.path.join(data_path, unzippedpath)\n",
    "\n",
    "df = pd.read_csv(dfpath, sep = '\\t', error_bad_lines = False, warn_bad_lines = True)"
   ]
  },
  {
   "cell_type": "markdown",
   "metadata": {
    "colab_type": "text",
    "id": "W0-vFMhaunVf"
   },
   "source": [
    "# Exploratory Data Analysis"
   ]
  },
  {
   "cell_type": "markdown",
   "metadata": {
    "colab_type": "text",
    "id": "Ikedm6fj891A"
   },
   "source": [
    "**SAMPLE CONTENT:**\n",
    "https://s3.amazonaws.com/amazon-reviews-pds/tsv/sample_us.tsv\n",
    "https://s3.amazonaws.com/amazon-reviews-pds/tsv/sample_fr.tsv\n",
    "\n",
    "**DATA COLUMNS:**\n",
    "1. *marketplace*  letter country code of the marketplace where the review was written.\n",
    "\n",
    "\n",
    "2. *customer_id *      - Random identifier that can be used to aggregate reviews written by a single author.\n",
    "\n",
    "3. *review_id *        - The unique ID of the review.\n",
    "4. *product_id *       - The unique Product ID the review pertains to. In the multilingual dataset the reviews for the same product in different countries can be grouped by the same product_id.\n",
    "                    \n",
    "5. *product_parent*    - Random identifier that can be used to aggregate reviews for the same product.\n",
    "\n",
    "6. *product_title*     - Title of the product.\n",
    "\n",
    "7. *product_category*  - Broad product category that can be used to group reviews (also used to group the dataset into coherent parts).\n",
    "\n",
    "8. *star_rating*      - The 1-5 star rating of the review.\n",
    "9. *helpful_votes*   - Number of helpful votes.\n",
    "10. *total_votes*       - Number of total votes the review received.\n",
    "11. *vine*              - Review was written as part of the Vine program.\n",
    "12. *verified_purchase *- The review is on a verified purchase.\n",
    "13. *review_headline*  - The title of the review.\n",
    "14. *review_body*       - The review text.\n",
    "16. *review_date *      - The date the review was written.\n",
    "\n",
    "\n",
    "\n",
    "\n",
    "\n"
   ]
  },
  {
   "cell_type": "code",
   "execution_count": 16,
   "metadata": {
    "colab": {
     "base_uri": "https://localhost:8080/",
     "height": 51
    },
    "colab_type": "code",
    "executionInfo": {
     "elapsed": 847,
     "status": "ok",
     "timestamp": 1577780732042,
     "user": {
      "displayName": "Giovanni Bruner",
      "photoUrl": "https://lh3.googleusercontent.com/a-/AAuE7mCZ-h0IQPleouGRaUb0j1_Nth08mflsLuyfmhoifA=s64",
      "userId": "15931335504431022291"
     },
     "user_tz": -60
    },
    "id": "ALlgzaFgutNl",
    "outputId": "a0d4f21c-fc6f-4824-8642-0f72cf169db7"
   },
   "outputs": [
    {
     "data": {
      "text/plain": [
       "US    904004\n",
       "Name: marketplace, dtype: int64"
      ]
     },
     "execution_count": 16,
     "metadata": {},
     "output_type": "execute_result"
    }
   ],
   "source": [
    "# How many marketplaces ?\n",
    "df['marketplace'].value_counts()"
   ]
  },
  {
   "cell_type": "code",
   "execution_count": 17,
   "metadata": {
    "colab": {
     "base_uri": "https://localhost:8080/",
     "height": 51
    },
    "colab_type": "code",
    "executionInfo": {
     "elapsed": 612,
     "status": "ok",
     "timestamp": 1575197385519,
     "user": {
      "displayName": "Giovanni Bruner",
      "photoUrl": "https://lh3.googleusercontent.com/a-/AAuE7mCZ-h0IQPleouGRaUb0j1_Nth08mflsLuyfmhoifA=s64",
      "userId": "15931335504431022291"
     },
     "user_tz": -60
    },
    "id": "kdzKrpD6u0T4",
    "outputId": "bc3e118e-be54-4e59-c200-cc627b778585"
   },
   "outputs": [
    {
     "name": "stdout",
     "output_type": "stream",
     "text": [
      "572785 unique customer ids\n",
      "904004 total reviews, 1.5782606038915126 reviews per customer\n"
     ]
    }
   ],
   "source": [
    "# How many customer_ids?\n",
    "unique_ids = df['customer_id'].unique()\n",
    "print(\"{} unique customer ids\".format(len(unique_ids)))\n",
    "print(\"{} total reviews, {} reviews per customer\".format(len(df), len(df)/len(unique_ids)))"
   ]
  },
  {
   "cell_type": "code",
   "execution_count": 18,
   "metadata": {
    "colab": {
     "base_uri": "https://localhost:8080/",
     "height": 34
    },
    "colab_type": "code",
    "executionInfo": {
     "elapsed": 1193,
     "status": "ok",
     "timestamp": 1575194557989,
     "user": {
      "displayName": "Giovanni Bruner",
      "photoUrl": "https://lh3.googleusercontent.com/a-/AAuE7mCZ-h0IQPleouGRaUb0j1_Nth08mflsLuyfmhoifA=s64",
      "userId": "15931335504431022291"
     },
     "user_tz": -60
    },
    "id": "ad-bwxevv468",
    "outputId": "8fd58be2-b436-4560-f8e2-019b25568bf3"
   },
   "outputs": [
    {
     "name": "stdout",
     "output_type": "stream",
     "text": [
      "There are 0 duplicate reviews\n"
     ]
    }
   ],
   "source": [
    "# Are there duplicate reviews ? \n",
    "unique_review_id = df['review_id'].unique()\n",
    "print(\"There are {} duplicate reviews\".format(len(unique_review_id) - len(df)))"
   ]
  },
  {
   "cell_type": "code",
   "execution_count": 19,
   "metadata": {
    "colab": {
     "base_uri": "https://localhost:8080/",
     "height": 34
    },
    "colab_type": "code",
    "executionInfo": {
     "elapsed": 550,
     "status": "ok",
     "timestamp": 1575194559570,
     "user": {
      "displayName": "Giovanni Bruner",
      "photoUrl": "https://lh3.googleusercontent.com/a-/AAuE7mCZ-h0IQPleouGRaUb0j1_Nth08mflsLuyfmhoifA=s64",
      "userId": "15931335504431022291"
     },
     "user_tz": -60
    },
    "id": "wTmK0bqbwShU",
    "outputId": "38683508-28ad-4a08-f6e0-8663cf514a9a"
   },
   "outputs": [
    {
     "name": "stdout",
     "output_type": "stream",
     "text": [
      "There are 107126 product parents\n"
     ]
    }
   ],
   "source": [
    "# How many unique product parents\n",
    "print(\"There are {} product parents\".format(len(df['product_parent'].unique())))"
   ]
  },
  {
   "cell_type": "code",
   "execution_count": 20,
   "metadata": {
    "colab": {
     "base_uri": "https://localhost:8080/",
     "height": 34
    },
    "colab_type": "code",
    "executionInfo": {
     "elapsed": 980,
     "status": "ok",
     "timestamp": 1575194562719,
     "user": {
      "displayName": "Giovanni Bruner",
      "photoUrl": "https://lh3.googleusercontent.com/a-/AAuE7mCZ-h0IQPleouGRaUb0j1_Nth08mflsLuyfmhoifA=s64",
      "userId": "15931335504431022291"
     },
     "user_tz": -60
    },
    "id": "gg0eZAtowpoA",
    "outputId": "7fe2dd9a-7522-4a59-b3e9-e6199fb4c7bb"
   },
   "outputs": [
    {
     "name": "stdout",
     "output_type": "stream",
     "text": [
      "There are 110943 product titles\n"
     ]
    }
   ],
   "source": [
    "# How many unique product titles\n",
    "print(\"There are {} product titles\".format(len(df['product_title'].unique())))\n"
   ]
  },
  {
   "cell_type": "code",
   "execution_count": 21,
   "metadata": {
    "colab": {
     "base_uri": "https://localhost:8080/",
     "height": 34
    },
    "colab_type": "code",
    "executionInfo": {
     "elapsed": 543,
     "status": "ok",
     "timestamp": 1575194565602,
     "user": {
      "displayName": "Giovanni Bruner",
      "photoUrl": "https://lh3.googleusercontent.com/a-/AAuE7mCZ-h0IQPleouGRaUb0j1_Nth08mflsLuyfmhoifA=s64",
      "userId": "15931335504431022291"
     },
     "user_tz": -60
    },
    "id": "YTTLuiPfw62h",
    "outputId": "3b7db314-6e9d-4df1-bd98-84e92cfda033"
   },
   "outputs": [
    {
     "name": "stdout",
     "output_type": "stream",
     "text": [
      "There are 1 product categories\n"
     ]
    }
   ],
   "source": [
    "# How many unique product categories\n",
    "print(\"There are {} product categories\".format(len(df['product_category'].unique())))"
   ]
  },
  {
   "cell_type": "markdown",
   "metadata": {
    "colab_type": "text",
    "id": "sgrL2nAuK2ZJ"
   },
   "source": [
    "# Reviews Distribution"
   ]
  },
  {
   "cell_type": "code",
   "execution_count": 22,
   "metadata": {
    "colab": {
     "base_uri": "https://localhost:8080/",
     "height": 170
    },
    "colab_type": "code",
    "executionInfo": {
     "elapsed": 1872,
     "status": "ok",
     "timestamp": 1575198263369,
     "user": {
      "displayName": "Giovanni Bruner",
      "photoUrl": "https://lh3.googleusercontent.com/a-/AAuE7mCZ-h0IQPleouGRaUb0j1_Nth08mflsLuyfmhoifA=s64",
      "userId": "15931335504431022291"
     },
     "user_tz": -60
    },
    "id": "kfyI7ZfvxFQK",
    "outputId": "dbcf0e6c-4e33-495e-c929-74ca965910a6"
   },
   "outputs": [
    {
     "name": "stdout",
     "output_type": "stream",
     "text": [
      "count    110942.000000\n",
      "mean          8.148429\n",
      "std          45.929805\n",
      "min           1.000000\n",
      "25%           1.000000\n",
      "50%           2.000000\n",
      "75%           4.000000\n",
      "max        4811.000000\n",
      "Name: product_category, dtype: float64\n"
     ]
    }
   ],
   "source": [
    "# Which are the products with most reviews? \n",
    "\n",
    "dist_reviews = df[['product_title', 'product_category']].groupby('product_title').count()\n",
    "\n",
    "print(dist_reviews['product_category'].describe())\n",
    "dist_reviews = dist_reviews.sort_values(by = 'product_category', ascending = False).reset_index()"
   ]
  },
  {
   "cell_type": "code",
   "execution_count": 24,
   "metadata": {
    "colab": {
     "base_uri": "https://localhost:8080/",
     "height": 315
    },
    "colab_type": "code",
    "executionInfo": {
     "elapsed": 1449,
     "status": "ok",
     "timestamp": 1575199435153,
     "user": {
      "displayName": "Giovanni Bruner",
      "photoUrl": "https://lh3.googleusercontent.com/a-/AAuE7mCZ-h0IQPleouGRaUb0j1_Nth08mflsLuyfmhoifA=s64",
      "userId": "15931335504431022291"
     },
     "user_tz": -60
    },
    "id": "MTSjMLnEIhG2",
    "outputId": "a8987686-3947-48f8-924f-2d8b461c5338"
   },
   "outputs": [
    {
     "data": {
      "text/plain": [
       "Text(0.5, 0, 'Number of Reviews')"
      ]
     },
     "execution_count": 24,
     "metadata": {},
     "output_type": "execute_result"
    },
    {
     "data": {
      "image/png": "[encoded data removed]",
      "text/plain": [
       "<Figure size 1152x288 with 2 Axes>"
      ]
     },
     "metadata": {},
     "output_type": "display_data"
    }
   ],
   "source": [
    "threshold = np.percentile(dist_reviews['product_category'], 95)\n",
    "\n",
    "dist_revs_low = dist_reviews[dist_reviews['product_category'] < threshold]\n",
    "dist_revs_high = dist_reviews[dist_reviews['product_category'] > threshold]\n",
    "\n",
    "plt.figure(figsize = (16, 4))\n",
    "\n",
    "plt.subplot(121)\n",
    "plt.hist(dist_revs_low['product_category'])\n",
    "plt.title('Distribution of Reviews By Product Up to 95th Percentile')\n",
    "plt.ylabel('Frequency')\n",
    "plt.xlabel('Number of Reviews')\n",
    "\n",
    "plt.subplot(122)\n",
    "plt.hist(dist_revs_high['product_category'], bins = 50)\n",
    "plt.title('Distribution of Reviews By Product From 95th Percentile')\n",
    "plt.xlabel('Number of Reviews')\n"
   ]
  },
  {
   "cell_type": "markdown",
   "metadata": {
    "colab_type": "text",
    "id": "rhMzQB3OPpHO"
   },
   "source": [
    "# Rating Distribution"
   ]
  },
  {
   "cell_type": "code",
   "execution_count": 25,
   "metadata": {
    "colab": {
     "base_uri": "https://localhost:8080/",
     "height": 516
    },
    "colab_type": "code",
    "executionInfo": {
     "elapsed": 722,
     "status": "ok",
     "timestamp": 1575200681775,
     "user": {
      "displayName": "Giovanni Bruner",
      "photoUrl": "https://lh3.googleusercontent.com/a-/AAuE7mCZ-h0IQPleouGRaUb0j1_Nth08mflsLuyfmhoifA=s64",
      "userId": "15931335504431022291"
     },
     "user_tz": -60
    },
    "id": "PkHmVrk1yWLX",
    "outputId": "0015ec67-f27a-4c07-d7a5-a4d231d03c88"
   },
   "outputs": [
    {
     "name": "stdout",
     "output_type": "stream",
     "text": [
      "1    0.073110\n",
      "2    0.044355\n",
      "3    0.074104\n",
      "4    0.175241\n",
      "5    0.633190\n",
      "Name: star_rating, dtype: float64\n"
     ]
    },
    {
     "data": {
      "text/plain": [
       "Text(0, 0.5, 'Relative Frequency')"
      ]
     },
     "execution_count": 25,
     "metadata": {},
     "output_type": "execute_result"
    },
    {
     "data": {
      "image/png": "[encoded data removed]",
      "text/plain": [
       "<Figure size 576x432 with 1 Axes>"
      ]
     },
     "metadata": {},
     "output_type": "display_data"
    }
   ],
   "source": [
    "# How are star ratings distributed?\n",
    "dist_rating = df['star_rating'].value_counts(normalize = True).sort_index()\n",
    "print(dist_rating)\n",
    "\n",
    "dist_rating.plot(kind = 'bar', figsize = (8, 6))\n",
    "plt.title('Star Rating - Relative Frequency')\n",
    "plt.xticks(size = 15, rotation = 0)\n",
    "plt.yticks(size = 15)\n",
    "plt.xlabel('Star Rating', size = 15)\n",
    "plt.ylabel('Relative Frequency', size = 15)\n"
   ]
  },
  {
   "cell_type": "markdown",
   "metadata": {
    "colab_type": "text",
    "id": "r7aCaxzNVIpU"
   },
   "source": [
    "# Rating Distribution by Product"
   ]
  },
  {
   "cell_type": "code",
   "execution_count": 29,
   "metadata": {
    "colab": {
     "base_uri": "https://localhost:8080/",
     "height": 569
    },
    "colab_type": "code",
    "executionInfo": {
     "elapsed": 2579,
     "status": "ok",
     "timestamp": 1575211934115,
     "user": {
      "displayName": "Giovanni Bruner",
      "photoUrl": "https://lh3.googleusercontent.com/a-/AAuE7mCZ-h0IQPleouGRaUb0j1_Nth08mflsLuyfmhoifA=s64",
      "userId": "15931335504431022291"
     },
     "user_tz": -60
    },
    "id": "8ba72GfKVLJz",
    "outputId": "73a5d609-8440-4de6-8e5d-bd94e806b0c6"
   },
   "outputs": [
    {
     "name": "stdout",
     "output_type": "stream",
     "text": [
      "             rating           len\n",
      "count  17083.000000  17083.000000\n",
      "mean       4.246691     39.456302\n",
      "std        0.532957     95.054447\n",
      "min        1.000000      9.000000\n",
      "25%        4.000000     12.000000\n",
      "50%        4.363636     18.000000\n",
      "75%        4.636364     35.000000\n",
      "max        5.000000   3158.000000\n"
     ]
    },
    {
     "data": {
      "image/png": "[encoded data removed]",
      "text/plain": [
       "<Figure size 576x432 with 1 Axes>"
      ]
     },
     "metadata": {},
     "output_type": "display_data"
    }
   ],
   "source": [
    "rev_prods = df[['product_id', 'star_rating']].groupby('product_id').agg([np.mean, len]).reset_index()\n",
    "rev_prods.columns = ['prod', 'rating', 'len']\n",
    "rev_prods = rev_prods[rev_prods['len'] > 8]\n",
    "\n",
    "plt.figure(figsize = (8, 6))\n",
    "plt.hist(rev_prods['rating'])\n",
    "plt.title('Products with more than 8 reviews - Rating Histogram', size = 15)\n",
    "plt.xlabel('Product Rating', size = 15)\n",
    "plt.ylabel('Frequency', size = 15)\n",
    "plt.xticks(size = 15, rotation = 0)\n",
    "plt.yticks(size = 15)\n",
    "\n",
    "print(rev_prods[rev_prods['len'] > 8].describe())"
   ]
  },
  {
   "cell_type": "markdown",
   "metadata": {
    "colab_type": "text",
    "id": "VPSEXhr9RB_U"
   },
   "source": [
    "# Best and Worse Reviews"
   ]
  },
  {
   "cell_type": "code",
   "execution_count": 43,
   "metadata": {},
   "outputs": [],
   "source": [
    "# Looking at the products with more than 25 reviews, which are the best and worst pruducts\n",
    "\n",
    "enoughreview = dist_reviews[dist_reviews['product_category'] > 25]['product_title']\n",
    "temp = df[df['product_title'].isin(enoughreview)][['product_title', 'star_rating']]\n",
    "\n",
    "ratings = temp.groupby('product_title').agg([np.mean, len]).sort_values(by = ('star_rating', 'mean'), ascending = False)"
   ]
  },
  {
   "cell_type": "code",
   "execution_count": 44,
   "metadata": {
    "colab": {
     "base_uri": "https://localhost:8080/",
     "height": 438
    },
    "colab_type": "code",
    "executionInfo": {
     "elapsed": 741,
     "status": "ok",
     "timestamp": 1575194603330,
     "user": {
      "displayName": "Giovanni Bruner",
      "photoUrl": "https://lh3.googleusercontent.com/a-/AAuE7mCZ-h0IQPleouGRaUb0j1_Nth08mflsLuyfmhoifA=s64",
      "userId": "15931335504431022291"
     },
     "user_tz": -60
    },
    "id": "iscVJkCDyznW",
    "outputId": "7d8ba527-08a5-4991-8653-be7844353b31"
   },
   "outputs": [
    {
     "data": {
      "text/html": [
       "<div>\n",
       "<style scoped>\n",
       "    .dataframe tbody tr th:only-of-type {\n",
       "        vertical-align: middle;\n",
       "    }\n",
       "\n",
       "    .dataframe tbody tr th {\n",
       "        vertical-align: top;\n",
       "    }\n",
       "\n",
       "    .dataframe thead tr th {\n",
       "        text-align: left;\n",
       "    }\n",
       "\n",
       "    .dataframe thead tr:last-of-type th {\n",
       "        text-align: right;\n",
       "    }\n",
       "</style>\n",
       "<table border=\"1\" class=\"dataframe\">\n",
       "  <thead>\n",
       "    <tr>\n",
       "      <th></th>\n",
       "      <th colspan=\"2\" halign=\"left\">star_rating</th>\n",
       "    </tr>\n",
       "    <tr>\n",
       "      <th></th>\n",
       "      <th>mean</th>\n",
       "      <th>len</th>\n",
       "    </tr>\n",
       "    <tr>\n",
       "      <th>product_title</th>\n",
       "      <th></th>\n",
       "      <th></th>\n",
       "    </tr>\n",
       "  </thead>\n",
       "  <tbody>\n",
       "    <tr>\n",
       "      <th>Snareweight M1: Drum Tone Control Damper/Dampener</th>\n",
       "      <td>5.000000</td>\n",
       "      <td>31</td>\n",
       "    </tr>\n",
       "    <tr>\n",
       "      <th>Seagull S6 Entourage Acoustic Guitar</th>\n",
       "      <td>5.000000</td>\n",
       "      <td>49</td>\n",
       "    </tr>\n",
       "    <tr>\n",
       "      <th>Jim Dunlop JC95 Jerry Cantrell Wah</th>\n",
       "      <td>5.000000</td>\n",
       "      <td>27</td>\n",
       "    </tr>\n",
       "    <tr>\n",
       "      <th>Grover 102-18C Rotomatic 18:1 3 per Side Tuners, Chrome</th>\n",
       "      <td>5.000000</td>\n",
       "      <td>41</td>\n",
       "    </tr>\n",
       "    <tr>\n",
       "      <th>Guitar Picks Pack of 60 (Tanbi Music P202): Premium Assorted Celluloid Thin, Medium and Heavy Gauge</th>\n",
       "      <td>4.980000</td>\n",
       "      <td>50</td>\n",
       "    </tr>\n",
       "    <tr>\n",
       "      <th>GuitarGrip LHGH-106 Male Standard Grip, Left-Handed, Black Metallic</th>\n",
       "      <td>4.979167</td>\n",
       "      <td>48</td>\n",
       "    </tr>\n",
       "    <tr>\n",
       "      <th>Antonio Giuliani Etude Violin Outfit</th>\n",
       "      <td>4.972222</td>\n",
       "      <td>36</td>\n",
       "    </tr>\n",
       "    <tr>\n",
       "      <th>Red-Eye Instrument Preamplifier</th>\n",
       "      <td>4.972222</td>\n",
       "      <td>36</td>\n",
       "    </tr>\n",
       "    <tr>\n",
       "      <th>FretGuru 2 Precision 8-in-1 Guitar String Action Gauge Fret Rocker Setup and Evaluation Pro Luthier Tool Guitarist Gift STAINLESS SILVER [ADVANCED NEW DESIGN SHIPPING NOW] be sure to check out the optional handmade leather case</th>\n",
       "      <td>4.967742</td>\n",
       "      <td>155</td>\n",
       "    </tr>\n",
       "    <tr>\n",
       "      <th>Shure Foam Sleeves (10 Included/5 Pair) for E3c, E4c, E5c, E500PTH, i3c, i4c &amp; SE Earphones (Black)</th>\n",
       "      <td>4.965517</td>\n",
       "      <td>29</td>\n",
       "    </tr>\n",
       "  </tbody>\n",
       "</table>\n",
       "</div>"
      ],
      "text/plain": [
       "                                                   star_rating     \n",
       "                                                          mean  len\n",
       "product_title                                                      \n",
       "Snareweight M1: Drum Tone Control Damper/Dampener     5.000000   31\n",
       "Seagull S6 Entourage Acoustic Guitar                  5.000000   49\n",
       "Jim Dunlop JC95 Jerry Cantrell Wah                    5.000000   27\n",
       "Grover 102-18C Rotomatic 18:1 3 per Side Tuners...    5.000000   41\n",
       "Guitar Picks Pack of 60 (Tanbi Music P202): Pre...    4.980000   50\n",
       "GuitarGrip LHGH-106 Male Standard Grip, Left-Ha...    4.979167   48\n",
       "Antonio Giuliani Etude Violin Outfit                  4.972222   36\n",
       "Red-Eye Instrument Preamplifier                       4.972222   36\n",
       "FretGuru 2 Precision 8-in-1 Guitar String Actio...    4.967742  155\n",
       "Shure Foam Sleeves (10 Included/5 Pair) for E3c...    4.965517   29"
      ]
     },
     "execution_count": 44,
     "metadata": {},
     "output_type": "execute_result"
    }
   ],
   "source": [
    "# Best 10\n",
    "ratings.head(10)"
   ]
  },
  {
   "cell_type": "code",
   "execution_count": 45,
   "metadata": {
    "colab": {
     "base_uri": "https://localhost:8080/",
     "height": 421
    },
    "colab_type": "code",
    "executionInfo": {
     "elapsed": 718,
     "status": "ok",
     "timestamp": 1575194607582,
     "user": {
      "displayName": "Giovanni Bruner",
      "photoUrl": "https://lh3.googleusercontent.com/a-/AAuE7mCZ-h0IQPleouGRaUb0j1_Nth08mflsLuyfmhoifA=s64",
      "userId": "15931335504431022291"
     },
     "user_tz": -60
    },
    "id": "pWrRb5GZzL27",
    "outputId": "f0c12729-10b8-4cd9-dab2-1da574b9d628"
   },
   "outputs": [
    {
     "data": {
      "text/html": [
       "<div>\n",
       "<style scoped>\n",
       "    .dataframe tbody tr th:only-of-type {\n",
       "        vertical-align: middle;\n",
       "    }\n",
       "\n",
       "    .dataframe tbody tr th {\n",
       "        vertical-align: top;\n",
       "    }\n",
       "\n",
       "    .dataframe thead tr th {\n",
       "        text-align: left;\n",
       "    }\n",
       "\n",
       "    .dataframe thead tr:last-of-type th {\n",
       "        text-align: right;\n",
       "    }\n",
       "</style>\n",
       "<table border=\"1\" class=\"dataframe\">\n",
       "  <thead>\n",
       "    <tr>\n",
       "      <th></th>\n",
       "      <th colspan=\"2\" halign=\"left\">star_rating</th>\n",
       "    </tr>\n",
       "    <tr>\n",
       "      <th></th>\n",
       "      <th>mean</th>\n",
       "      <th>len</th>\n",
       "    </tr>\n",
       "    <tr>\n",
       "      <th>product_title</th>\n",
       "      <th></th>\n",
       "      <th></th>\n",
       "    </tr>\n",
       "  </thead>\n",
       "  <tbody>\n",
       "    <tr>\n",
       "      <th>LEDwholesalers Dimmable PAR38 16 Watt LED Spot Light Bulb for Track or Recessed Lighting, White, 1315WH</th>\n",
       "      <td>2.307692</td>\n",
       "      <td>39</td>\n",
       "    </tr>\n",
       "    <tr>\n",
       "      <th>4.5\" Rotating Red Flashing Beacon Party Lamp DJ Strobe Light</th>\n",
       "      <td>2.306122</td>\n",
       "      <td>49</td>\n",
       "    </tr>\n",
       "    <tr>\n",
       "      <th>Shure CBL-M+-K-EFS Music Phone Cable with Remote + Mic (Three-Button Control)</th>\n",
       "      <td>2.303483</td>\n",
       "      <td>201</td>\n",
       "    </tr>\n",
       "    <tr>\n",
       "      <th>Tonsee New Colourful Cosmos Star Master LED Projector Lamp Night Light</th>\n",
       "      <td>2.258065</td>\n",
       "      <td>31</td>\n",
       "    </tr>\n",
       "    <tr>\n",
       "      <th>Mackie SRM1801 1000-Watt 18\" Powered Subwoofer</th>\n",
       "      <td>2.192308</td>\n",
       "      <td>26</td>\n",
       "    </tr>\n",
       "    <tr>\n",
       "      <th>Guardian Flexible-Fit Clip (SC-106)</th>\n",
       "      <td>2.181818</td>\n",
       "      <td>44</td>\n",
       "    </tr>\n",
       "    <tr>\n",
       "      <th>Best the Blue Sport Wireless Earphones Headphones Music Mp3 Player Tf Card Fm Radio Headset</th>\n",
       "      <td>2.171875</td>\n",
       "      <td>64</td>\n",
       "    </tr>\n",
       "    <tr>\n",
       "      <th>Best the Green Sport Wireless Earphones Headphones Music Mp3 Player Tf Card Fm Radio Headset</th>\n",
       "      <td>2.095238</td>\n",
       "      <td>42</td>\n",
       "    </tr>\n",
       "    <tr>\n",
       "      <th>Details about Romance Starts Astrostar Astro Star Laser Projector Cosmos Light Lamp DIY Gift (2014 Edition 2)</th>\n",
       "      <td>2.000000</td>\n",
       "      <td>45</td>\n",
       "    </tr>\n",
       "    <tr>\n",
       "      <th>Akai KS 208 CD+G Karaoke Player</th>\n",
       "      <td>1.884615</td>\n",
       "      <td>26</td>\n",
       "    </tr>\n",
       "  </tbody>\n",
       "</table>\n",
       "</div>"
      ],
      "text/plain": [
       "                                                   star_rating     \n",
       "                                                          mean  len\n",
       "product_title                                                      \n",
       "LEDwholesalers Dimmable PAR38 16 Watt LED Spot ...    2.307692   39\n",
       "4.5\" Rotating Red Flashing Beacon Party Lamp DJ...    2.306122   49\n",
       "Shure CBL-M+-K-EFS Music Phone Cable with Remot...    2.303483  201\n",
       "Tonsee New Colourful Cosmos Star Master LED Pro...    2.258065   31\n",
       "Mackie SRM1801 1000-Watt 18\" Powered Subwoofer        2.192308   26\n",
       "Guardian Flexible-Fit Clip (SC-106)                   2.181818   44\n",
       "Best the Blue Sport Wireless Earphones Headphon...    2.171875   64\n",
       "Best the Green Sport Wireless Earphones Headpho...    2.095238   42\n",
       "Details about Romance Starts Astrostar Astro St...    2.000000   45\n",
       "Akai KS 208 CD+G Karaoke Player                       1.884615   26"
      ]
     },
     "execution_count": 45,
     "metadata": {},
     "output_type": "execute_result"
    }
   ],
   "source": [
    "# Worst 10\n",
    "ratings.tail(10)"
   ]
  },
  {
   "cell_type": "code",
   "execution_count": 58,
   "metadata": {
    "colab": {
     "base_uri": "https://localhost:8080/",
     "height": 598
    },
    "colab_type": "code",
    "executionInfo": {
     "elapsed": 796,
     "status": "ok",
     "timestamp": 1575194623911,
     "user": {
      "displayName": "Giovanni Bruner",
      "photoUrl": "https://lh3.googleusercontent.com/a-/AAuE7mCZ-h0IQPleouGRaUb0j1_Nth08mflsLuyfmhoifA=s64",
      "userId": "15931335504431022291"
     },
     "user_tz": -60
    },
    "id": "_BbCA3Md1gkw",
    "outputId": "5dbc68d7-57d4-4e83-8b23-618ed6dc0c24"
   },
   "outputs": [],
   "source": [
    "# Let's look at the reviews of the worst product\n",
    "\n",
    "prod = ratings.index[-1]\n",
    "worst_prd = df[df['product_title'] == prod]\n",
    "\n",
    "print(prod)\n",
    "\n",
    "for i in worst_prd.itertuples():\n",
    "    \n",
    "  print(i.review_body)\n",
    "  print(\"----\")\n"
   ]
  },
  {
   "cell_type": "code",
   "execution_count": 59,
   "metadata": {
    "colab": {
     "base_uri": "https://localhost:8080/",
     "height": 170
    },
    "colab_type": "code",
    "executionInfo": {
     "elapsed": 537,
     "status": "ok",
     "timestamp": 1575194632635,
     "user": {
      "displayName": "Giovanni Bruner",
      "photoUrl": "https://lh3.googleusercontent.com/a-/AAuE7mCZ-h0IQPleouGRaUb0j1_Nth08mflsLuyfmhoifA=s64",
      "userId": "15931335504431022291"
     },
     "user_tz": -60
    },
    "id": "UKr8IM781atc",
    "outputId": "e52472c0-6db5-4fcc-a4c3-03f4d201463b"
   },
   "outputs": [
    {
     "data": {
      "text/plain": [
       "count    904004.000000\n",
       "mean          2.385869\n",
       "std          13.891941\n",
       "min           0.000000\n",
       "25%           0.000000\n",
       "50%           0.000000\n",
       "75%           2.000000\n",
       "max        4805.000000\n",
       "Name: total_votes, dtype: float64"
      ]
     },
     "execution_count": 59,
     "metadata": {},
     "output_type": "execute_result"
    }
   ],
   "source": [
    "# Check how many votes we excpect each review to have\n",
    "df['total_votes'].describe()"
   ]
  },
  {
   "cell_type": "code",
   "execution_count": 60,
   "metadata": {
    "colab": {
     "base_uri": "https://localhost:8080/",
     "height": 170
    },
    "colab_type": "code",
    "executionInfo": {
     "elapsed": 569,
     "status": "ok",
     "timestamp": 1575194635598,
     "user": {
      "displayName": "Giovanni Bruner",
      "photoUrl": "https://lh3.googleusercontent.com/a-/AAuE7mCZ-h0IQPleouGRaUb0j1_Nth08mflsLuyfmhoifA=s64",
      "userId": "15931335504431022291"
     },
     "user_tz": -60
    },
    "id": "JopAyl9b1a28",
    "outputId": "0fadf323-0c90-49c7-c780-0da2e38cd89a"
   },
   "outputs": [
    {
     "data": {
      "text/plain": [
       "count    904004.000000\n",
       "mean          1.862232\n",
       "std          13.084428\n",
       "min           0.000000\n",
       "25%           0.000000\n",
       "50%           0.000000\n",
       "75%           1.000000\n",
       "max        4709.000000\n",
       "Name: helpful_votes, dtype: float64"
      ]
     },
     "execution_count": 60,
     "metadata": {},
     "output_type": "execute_result"
    }
   ],
   "source": [
    "# Check how many helpful votes we excpect each review to have\n",
    "df['helpful_votes'].describe()"
   ]
  },
  {
   "cell_type": "code",
   "execution_count": 61,
   "metadata": {
    "colab": {
     "base_uri": "https://localhost:8080/",
     "height": 68
    },
    "colab_type": "code",
    "executionInfo": {
     "elapsed": 917,
     "status": "ok",
     "timestamp": 1575194643715,
     "user": {
      "displayName": "Giovanni Bruner",
      "photoUrl": "https://lh3.googleusercontent.com/a-/AAuE7mCZ-h0IQPleouGRaUb0j1_Nth08mflsLuyfmhoifA=s64",
      "userId": "15931335504431022291"
     },
     "user_tz": -60
    },
    "id": "vs860lyt1a6x",
    "outputId": "caee6ef6-b9eb-40e9-93c2-ea69b928a20b"
   },
   "outputs": [
    {
     "data": {
      "text/plain": [
       "Y    780914\n",
       "N    123090\n",
       "Name: verified_purchase, dtype: int64"
      ]
     },
     "execution_count": 61,
     "metadata": {},
     "output_type": "execute_result"
    }
   ],
   "source": [
    "# Check how many verified purchases on total\n",
    "df['verified_purchase'].value_counts()"
   ]
  },
  {
   "cell_type": "code",
   "execution_count": 62,
   "metadata": {
    "colab": {
     "base_uri": "https://localhost:8080/",
     "height": 68
    },
    "colab_type": "code",
    "executionInfo": {
     "elapsed": 599,
     "status": "ok",
     "timestamp": 1575194647232,
     "user": {
      "displayName": "Giovanni Bruner",
      "photoUrl": "https://lh3.googleusercontent.com/a-/AAuE7mCZ-h0IQPleouGRaUb0j1_Nth08mflsLuyfmhoifA=s64",
      "userId": "15931335504431022291"
     },
     "user_tz": -60
    },
    "id": "vIpEBaRgAA01",
    "outputId": "8088bf03-1617-43f3-9428-be9d27c1ac6b"
   },
   "outputs": [
    {
     "data": {
      "text/plain": [
       "N    901718\n",
       "Y      2286\n",
       "Name: vine, dtype: int64"
      ]
     },
     "execution_count": 62,
     "metadata": {},
     "output_type": "execute_result"
    }
   ],
   "source": [
    "# Check how many were part of the vine program - TODO (Investigate later what this is)\n",
    "df['vine'].value_counts()"
   ]
  },
  {
   "cell_type": "markdown",
   "metadata": {
    "colab_type": "text",
    "id": "7a8c_K9Uaf6S"
   },
   "source": [
    "# Reviews Time Series"
   ]
  },
  {
   "cell_type": "code",
   "execution_count": 64,
   "metadata": {
    "colab": {
     "base_uri": "https://localhost:8080/",
     "height": 327
    },
    "colab_type": "code",
    "executionInfo": {
     "elapsed": 1327,
     "status": "ok",
     "timestamp": 1575212305472,
     "user": {
      "displayName": "Giovanni Bruner",
      "photoUrl": "https://lh3.googleusercontent.com/a-/AAuE7mCZ-h0IQPleouGRaUb0j1_Nth08mflsLuyfmhoifA=s64",
      "userId": "15931335504431022291"
     },
     "user_tz": -60
    },
    "id": "4xYpz1QBAPcO",
    "outputId": "b22f20b2-d383-4a4c-c3b7-126f0cb04db0"
   },
   "outputs": [
    {
     "data": {
      "text/plain": [
       "(array([-250.,    0.,  250.,  500.,  750., 1000., 1250., 1500., 1750.,\n",
       "        2000., 2250.]), <a list of 11 Text yticklabel objects>)"
      ]
     },
     "execution_count": 64,
     "metadata": {},
     "output_type": "execute_result"
    },
    {
     "data": {
      "image/png": "[encoded data removed]",
      "text/plain": [
       "<Figure size 1152x288 with 1 Axes>"
      ]
     },
     "metadata": {},
     "output_type": "display_data"
    }
   ],
   "source": [
    "# Reviews times series\n",
    "dist_time = df['review_date'].value_counts().reset_index()\n",
    "dist_time.columns = ['Date', 'Frequency']\n",
    "dist_time['Date'] = pd.to_datetime(dist_time['Date'])\n",
    "dist_time.sort_values(by = 'Date').set_index('Date')[2008:].plot(figsize = (16, 4))\n",
    "\n",
    "plt.title('Count of Reviews Time Series', size = 15)\n",
    "plt.xlabel('Day of Year', size = 15)\n",
    "plt.ylabel('Frequency', size = 15)\n",
    "plt.xticks(size = 15, rotation = 0)\n",
    "plt.yticks(size = 15)\n"
   ]
  },
  {
   "cell_type": "code",
   "execution_count": 65,
   "metadata": {
    "colab": {
     "base_uri": "https://localhost:8080/",
     "height": 434
    },
    "colab_type": "code",
    "executionInfo": {
     "elapsed": 1083,
     "status": "ok",
     "timestamp": 1575213820334,
     "user": {
      "displayName": "Giovanni Bruner",
      "photoUrl": "https://lh3.googleusercontent.com/a-/AAuE7mCZ-h0IQPleouGRaUb0j1_Nth08mflsLuyfmhoifA=s64",
      "userId": "15931335504431022291"
     },
     "user_tz": -60
    },
    "id": "PE3NYT0q72IW",
    "outputId": "882770ef-09aa-47cc-e720-22be427c4e60"
   },
   "outputs": [
    {
     "data": {
      "text/plain": [
       "(3, 4.4945692327201945)"
      ]
     },
     "execution_count": 65,
     "metadata": {},
     "output_type": "execute_result"
    },
    {
     "data": {
      "image/png": "[encoded data removed]",
      "text/plain": [
       "<Figure size 1152x432 with 1 Axes>"
      ]
     },
     "metadata": {},
     "output_type": "display_data"
    }
   ],
   "source": [
    "# Check how rating correlates to the number of reviews.\n",
    "# Is it possible that rating tends to regress to smaller values when many reviews?\n",
    "\n",
    "sub_ratings = ratings[ratings['star_rating']['len'] > 100]\n",
    "sub_ratings = ratings.copy()\n",
    "\n",
    "sub_ratings['bin'] = pd.qcut(sub_ratings['star_rating']['len'], 10)\n",
    "\n",
    "sub_ratings = sub_ratings.reset_index()\n",
    "sub_ratings.columns = ['review', 'mean', 'len', 'bin']\n",
    "sub_ratings = sub_ratings[['bin', 'mean']].groupby('bin').mean()\n",
    "\n",
    "sub_ratings.plot(kind = 'bar', figsize = (16, 6))\n",
    "plt.title('Rating For Different Product Buckets (by review number)', size = 15)\n",
    "plt.xlabel('Reviews', size = 15)\n",
    "plt.ylabel('Average Rating', size = 15)\n",
    "plt.xticks(size = 12, rotation = 0)\n",
    "plt.yticks(size = 15)\n",
    "plt.ylim(3)\n"
   ]
  },
  {
   "cell_type": "code",
   "execution_count": 66,
   "metadata": {
    "colab": {
     "base_uri": "https://localhost:8080/",
     "height": 316
    },
    "colab_type": "code",
    "executionInfo": {
     "elapsed": 909,
     "status": "ok",
     "timestamp": 1575194907965,
     "user": {
      "displayName": "Giovanni Bruner",
      "photoUrl": "https://lh3.googleusercontent.com/a-/AAuE7mCZ-h0IQPleouGRaUb0j1_Nth08mflsLuyfmhoifA=s64",
      "userId": "15931335504431022291"
     },
     "user_tz": -60
    },
    "id": "1ZM1TstJAha3",
    "outputId": "41deedf6-19b7-4545-ed6c-6bdbe9cdfe8c"
   },
   "outputs": [
    {
     "data": {
      "text/plain": [
       "Text(0, 0.5, 'Number of Reviews')"
      ]
     },
     "execution_count": 66,
     "metadata": {},
     "output_type": "execute_result"
    },
    {
     "data": {
      "image/png": "[encoded data removed]",
      "text/plain": [
       "<Figure size 1152x288 with 1 Axes>"
      ]
     },
     "metadata": {},
     "output_type": "display_data"
    }
   ],
   "source": [
    "# Check how rating correlates to the number of reviews.\n",
    "# Is it possible that rating tends to regress to smaller values when many reviews?\n",
    "\n",
    "sub_ratings = ratings[ratings['star_rating']['len'] > 500]\n",
    "\n",
    "plt.figure(figsize = (16, 4))\n",
    "plt.scatter(sub_ratings['star_rating']['mean'].values, np.log(sub_ratings['star_rating']['len'].values))\n",
    "plt.xlabel('Average Rating')\n",
    "plt.ylabel('Number of Reviews')"
   ]
  }
 ],
 "metadata": {
  "colab": {
   "collapsed_sections": [],
   "name": "Musical Instruments Reviews EDA.ipynb",
   "provenance": [],
   "toc_visible": true
  },
  "kernelspec": {
   "display_name": "conda_tensorflow_p36",
   "language": "python",
   "name": "conda_tensorflow_p36"
  },
  "language_info": {
   "codemirror_mode": {
    "name": "ipython",
    "version": 3
   },
   "file_extension": ".py",
   "mimetype": "text/x-python",
   "name": "python",
   "nbconvert_exporter": "python",
   "pygments_lexer": "ipython3",
   "version": "3.6.5"
  }
 },
 "nbformat": 4,
 "nbformat_minor": 4
}
